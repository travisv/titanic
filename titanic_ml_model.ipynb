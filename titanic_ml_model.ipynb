{
 "cells": [
  {
   "cell_type": "code",
   "execution_count": 28,
   "metadata": {},
   "outputs": [],
   "source": [
    "#Libraries\n",
    "import pandas as pd\n",
    "import numpy as np\n",
    "import re\n",
    "from sklearn.tree import DecisionTreeClassifier\n",
    "from sklearn.model_selection import StratifiedShuffleSplit\n",
    "from sklearn.model_selection import cross_val_score\n",
    "\n",
    "#Training (891 entries) & Testing (418 entries) data\n",
    "train_data = pd.read_csv('train.csv')\n",
    "test_data = pd.read_csv('test.csv')\n",
    "all_data = [train_data, test_data]"
   ]
  },
  {
   "cell_type": "code",
   "execution_count": 2,
   "metadata": {},
   "outputs": [
    {
     "name": "stdout",
     "output_type": "stream",
     "text": [
      "   Pclass  Survived\n",
      "0       1  0.629630\n",
      "1       2  0.472826\n",
      "2       3  0.242363\n"
     ]
    }
   ],
   "source": [
    "#Feature 1: Pclass\n",
    "print( train_data[[\"Pclass\",\"Survived\"]].groupby([\"Pclass\"], as_index = False).mean() )"
   ]
  },
  {
   "cell_type": "code",
   "execution_count": 3,
   "metadata": {},
   "outputs": [
    {
     "name": "stdout",
     "output_type": "stream",
     "text": [
      "      Sex  Survived\n",
      "0  female  0.742038\n",
      "1    male  0.188908\n"
     ]
    }
   ],
   "source": [
    "#Feature 2: Sex\n",
    "print( train_data[[\"Sex\", \"Survived\"]].groupby([\"Sex\"], as_index = False).mean())"
   ]
  },
  {
   "cell_type": "code",
   "execution_count": 4,
   "metadata": {},
   "outputs": [
    {
     "name": "stdout",
     "output_type": "stream",
     "text": [
      "   family_size  Survived\n",
      "0            1  0.303538\n",
      "1            2  0.552795\n",
      "2            3  0.578431\n",
      "3            4  0.724138\n",
      "4            5  0.200000\n",
      "5            6  0.136364\n",
      "6            7  0.333333\n",
      "7            8  0.000000\n",
      "8           11  0.000000\n"
     ]
    }
   ],
   "source": [
    "#Feature 3: Family Size\n",
    "for data in all_data:\n",
    "    data['family_size'] = data['SibSp'] + data['Parch'] + 1\n",
    "print( train_data[[\"family_size\",\"Survived\"]].groupby([\"family_size\"], as_index = False).mean() )"
   ]
  },
  {
   "cell_type": "code",
   "execution_count": 5,
   "metadata": {},
   "outputs": [
    {
     "name": "stdout",
     "output_type": "stream",
     "text": [
      "   is_alone  Survived\n",
      "0         0  0.505650\n",
      "1         1  0.303538\n"
     ]
    }
   ],
   "source": [
    "#Feature 3.1: Is alone?\n",
    "for data in all_data:\n",
    "    data['is_alone'] = 0\n",
    "    data.loc[data['family_size'] == 1, 'is_alone'] = 1\n",
    "print (train_data[['is_alone', 'Survived']].groupby(['is_alone'], as_index=False).mean())"
   ]
  },
  {
   "cell_type": "code",
   "execution_count": 6,
   "metadata": {},
   "outputs": [
    {
     "name": "stdout",
     "output_type": "stream",
     "text": [
      "  Embarked  Survived\n",
      "0        C  0.553571\n",
      "1        Q  0.389610\n",
      "2        S  0.339009\n"
     ]
    }
   ],
   "source": [
    "#Feature 4: Embarked\n",
    "for data in all_data:\n",
    "    data['Embarked'] = data['Embarked'].fillna('S')\n",
    "print( train_data[[\"Embarked\",\"Survived\"]].groupby([\"Embarked\"], as_index = False).mean() )"
   ]
  },
  {
   "cell_type": "code",
   "execution_count": 7,
   "metadata": {},
   "outputs": [
    {
     "name": "stdout",
     "output_type": "stream",
     "text": [
      "     category_fare  Survived\n",
      "0   (-0.001, 7.91]  0.197309\n",
      "1   (7.91, 14.454]  0.303571\n",
      "2   (14.454, 31.0]  0.454955\n",
      "3  (31.0, 512.329]  0.581081\n"
     ]
    }
   ],
   "source": [
    "#Feature 5: Fare\n",
    "for data in all_data:\n",
    "    data['Fare'] = data['Fare'].fillna(data['Fare'].median())\n",
    "train_data['category_fare'] = pd.qcut(train_data['Fare'], 4)\n",
    "print( train_data[[\"category_fare\",\"Survived\"]].groupby([\"category_fare\"], as_index = False).mean() )"
   ]
  },
  {
   "cell_type": "code",
   "execution_count": 8,
   "metadata": {},
   "outputs": [
    {
     "name": "stdout",
     "output_type": "stream",
     "text": [
      "    category_age  Survived\n",
      "0  (-0.08, 16.0]  0.522936\n",
      "1   (16.0, 32.0]  0.356828\n",
      "2   (32.0, 48.0]  0.370968\n",
      "3   (48.0, 64.0]  0.434783\n",
      "4   (64.0, 80.0]  0.090909\n"
     ]
    },
    {
     "name": "stderr",
     "output_type": "stream",
     "text": [
      "/anaconda3/lib/python3.6/site-packages/ipykernel_launcher.py:8: SettingWithCopyWarning: \n",
      "A value is trying to be set on a copy of a slice from a DataFrame\n",
      "\n",
      "See the caveats in the documentation: http://pandas.pydata.org/pandas-docs/stable/indexing.html#indexing-view-versus-copy\n",
      "  \n"
     ]
    }
   ],
   "source": [
    "#Feature 6: Age\n",
    "for data in all_data:\n",
    "    age_avg  = data['Age'].mean()\n",
    "    age_std  = data['Age'].std()\n",
    "    age_null = data['Age'].isnull().sum()\n",
    "\n",
    "    random_list = np.random.randint(age_avg - age_std, age_avg + age_std , size = age_null)\n",
    "    data['Age'][np.isnan(data['Age'])] = random_list\n",
    "    data['Age'] = data['Age'].astype(int)\n",
    "\n",
    "train_data['category_age'] = pd.cut(train_data['Age'], 5)\n",
    "print( train_data[[\"category_age\",\"Survived\"]].groupby([\"category_age\"], as_index = False).mean() )"
   ]
  },
  {
   "cell_type": "code",
   "execution_count": 9,
   "metadata": {},
   "outputs": [
    {
     "name": "stdout",
     "output_type": "stream",
     "text": [
      "Sex     female  male\n",
      "title               \n",
      "Master       0    40\n",
      "Miss       185     0\n",
      "Mr           0   517\n",
      "Mrs        126     0\n",
      "Rare         3    20\n",
      "----------------------\n",
      "    title  Survived\n",
      "0  Master  0.575000\n",
      "1    Miss  0.702703\n",
      "2      Mr  0.156673\n",
      "3     Mrs  0.793651\n",
      "4    Rare  0.347826\n"
     ]
    }
   ],
   "source": [
    "#Feature 7: Name\n",
    "def get_title(name):\n",
    "    title_search = re.search(' ([A-Za-z]+)\\. ', name)\n",
    "    if title_search:\n",
    "        return title_search.group(1)\n",
    "    return \"\"\n",
    "\n",
    "for data in all_data:\n",
    "    data['title'] = data['Name'].apply(get_title)\n",
    "\n",
    "for data in all_data:\n",
    "    data['title'] = data['title'].replace(['Lady', 'Countess','Capt', 'Col','Don', 'Dr', 'Major', 'Rev', 'Sir', 'Jonkheer', 'Dona'],'Rare')\n",
    "    data['title'] = data['title'].replace('Mlle','Miss')\n",
    "    data['title'] = data['title'].replace('Ms','Miss')\n",
    "    data['title'] = data['title'].replace('Mme','Mrs')\n",
    "    \n",
    "print(pd.crosstab(train_data['title'], train_data['Sex']))\n",
    "print(\"----------------------\")\n",
    "print(train_data[['title','Survived']].groupby(['title'], as_index = False).mean())"
   ]
  },
  {
   "cell_type": "code",
   "execution_count": 10,
   "metadata": {},
   "outputs": [
    {
     "name": "stdout",
     "output_type": "stream",
     "text": [
      "   Survived  Pclass  Sex  Age  Fare  Embarked  is_alone  title\n",
      "0         0       3    1    1     0         0         0      1\n",
      "1         1       1    0    2     3         1         0      3\n",
      "2         1       3    0    1     1         0         1      2\n",
      "3         1       1    0    2     3         0         0      3\n",
      "4         0       3    1    2     1         0         1      1\n",
      "5         0       3    1    2     1         2         1      1\n",
      "6         0       1    1    3     3         0         1      1\n",
      "7         0       3    1    0     2         0         0      4\n",
      "8         1       3    0    1     1         0         0      3\n",
      "9         1       2    0    0     2         1         0      3\n"
     ]
    }
   ],
   "source": [
    "#Map Data\n",
    "for data in all_data:\n",
    "\n",
    "    #Mapping Sex\n",
    "    sex_map = { 'female':0 , 'male':1 }\n",
    "    data['Sex'] = data['Sex'].map(sex_map).astype(int)\n",
    "\n",
    "    #Mapping Title\n",
    "    title_map = {'Mr':1, 'Miss':2, 'Mrs':3, 'Master':4, 'Rare':5}\n",
    "    data['title'] = data['title'].map(title_map)\n",
    "    data['title'] = data['title'].fillna(0)\n",
    "\n",
    "    #Mapping Embarked\n",
    "    embark_map = {'S':0, 'C':1, 'Q':2}\n",
    "    data['Embarked'] = data['Embarked'].map(embark_map).astype(int)\n",
    "\n",
    "    #Mapping Fare\n",
    "    data.loc[ data['Fare'] <= 7.91, 'Fare']                            = 0\n",
    "    data.loc[(data['Fare'] > 7.91) & (data['Fare'] <= 14.454), 'Fare'] = 1\n",
    "    data.loc[(data['Fare'] > 14.454) & (data['Fare'] <= 31), 'Fare']   = 2\n",
    "    data.loc[ data['Fare'] > 31, 'Fare']                               = 3\n",
    "    data['Fare'] = data['Fare'].astype(int)\n",
    "\n",
    "    #Mapping Age\n",
    "    data.loc[ data['Age'] <= 16, 'Age']                       = 0\n",
    "    data.loc[(data['Age'] > 16) & (data['Age'] <= 32), 'Age'] = 1\n",
    "    data.loc[(data['Age'] > 32) & (data['Age'] <= 48), 'Age'] = 2\n",
    "    data.loc[(data['Age'] > 48) & (data['Age'] <= 64), 'Age'] = 3\n",
    "    data.loc[ data['Age'] > 64, 'Age']                        = 4\n",
    "\n",
    "#Feature Selection\n",
    "#Create list of columns to drop\n",
    "drop_elements = [\"Name\", \"Ticket\", \"Cabin\", \"SibSp\", \"Parch\", \"family_size\"]\n",
    "\n",
    "#Drop columns from both data sets\n",
    "train_data = train_data.drop(drop_elements, axis = 1)\n",
    "train_data = train_data.drop(['PassengerId','category_fare', 'category_age'], axis = 1)\n",
    "test_data = test_data.drop(drop_elements, axis = 1)\n",
    "\n",
    "#Print ready to use data\n",
    "print(train_data.head(10))"
   ]
  },
  {
   "cell_type": "code",
   "execution_count": 11,
   "metadata": {},
   "outputs": [],
   "source": [
    "#Prediction\n",
    "#Train and Test data\n",
    "X_train = train_data.drop(\"Survived\", axis=1)\n",
    "Y_train = train_data[\"Survived\"]\n",
    "X_test  = test_data.drop(\"PassengerId\", axis=1).copy()"
   ]
  },
  {
   "cell_type": "code",
   "execution_count": 57,
   "metadata": {},
   "outputs": [
    {
     "name": "stdout",
     "output_type": "stream",
     "text": [
      "Model Accuracy:  87.21\n"
     ]
    }
   ],
   "source": [
    "#Running our classifier\n",
    "decision_tree = DecisionTreeClassifier()\n",
    "decision_tree.fit(X_train, Y_train)\n",
    "Y_pred = decision_tree.predict(X_test)\n",
    "accuracy = round(decision_tree.score(X_train, Y_train) * 100, 2)\n",
    "print(\"Model Accuracy: \",accuracy)"
   ]
  },
  {
   "cell_type": "code",
   "execution_count": 58,
   "metadata": {},
   "outputs": [
    {
     "name": "stdout",
     "output_type": "stream",
     "text": [
      "Mean CV Accuracy: 0.8106145251396649\n"
     ]
    }
   ],
   "source": [
    "n_splits=10\n",
    "rstate=15\n",
    "scoring = 'accuracy'\n",
    "cv = StratifiedShuffleSplit(n_splits=n_splits, test_size=0.2, random_state=rstate)\n",
    "score = cross_val_score(decision_tree, X_train, Y_train, cv=cv, scoring='accuracy')\n",
    "print(\"Mean CV Accuracy:\",cross_val_score(decision_tree, X_train, Y_train, cv=cv, scoring=scoring).mean())\n",
    "\n"
   ]
  },
  {
   "cell_type": "code",
   "execution_count": null,
   "metadata": {},
   "outputs": [],
   "source": []
  },
  {
   "cell_type": "code",
   "execution_count": 59,
   "metadata": {},
   "outputs": [],
   "source": [
    "#Create a CSV with results\n",
    "submission = pd.DataFrame({\n",
    "    \"PassengerId\": test_data[\"PassengerId\"],\n",
    "    \"Survived\": Y_pred\n",
    "})\n",
    "submission.to_csv('submission.csv', index = False)"
   ]
  },
  {
   "cell_type": "code",
   "execution_count": 61,
   "metadata": {},
   "outputs": [
    {
     "data": {
      "text/plain": [
       "0      0\n",
       "1      1\n",
       "2      1\n",
       "3      1\n",
       "4      0\n",
       "5      0\n",
       "6      0\n",
       "7      0\n",
       "8      1\n",
       "9      1\n",
       "10     1\n",
       "11     1\n",
       "12     0\n",
       "13     0\n",
       "14     0\n",
       "15     1\n",
       "16     0\n",
       "17     1\n",
       "18     0\n",
       "19     1\n",
       "20     0\n",
       "21     1\n",
       "22     1\n",
       "23     1\n",
       "24     0\n",
       "25     1\n",
       "26     0\n",
       "27     0\n",
       "28     1\n",
       "29     0\n",
       "      ..\n",
       "861    0\n",
       "862    1\n",
       "863    0\n",
       "864    0\n",
       "865    1\n",
       "866    1\n",
       "867    0\n",
       "868    0\n",
       "869    1\n",
       "870    0\n",
       "871    1\n",
       "872    0\n",
       "873    0\n",
       "874    1\n",
       "875    1\n",
       "876    0\n",
       "877    0\n",
       "878    0\n",
       "879    1\n",
       "880    1\n",
       "881    0\n",
       "882    0\n",
       "883    0\n",
       "884    0\n",
       "885    0\n",
       "886    0\n",
       "887    1\n",
       "888    0\n",
       "889    1\n",
       "890    0\n",
       "Name: Survived, Length: 891, dtype: int64"
      ]
     },
     "execution_count": 61,
     "metadata": {},
     "output_type": "execute_result"
    }
   ],
   "source": [
    "Y_train"
   ]
  },
  {
   "cell_type": "code",
   "execution_count": null,
   "metadata": {},
   "outputs": [],
   "source": []
  },
  {
   "cell_type": "code",
   "execution_count": null,
   "metadata": {},
   "outputs": [],
   "source": []
  },
  {
   "cell_type": "code",
   "execution_count": null,
   "metadata": {},
   "outputs": [],
   "source": []
  },
  {
   "cell_type": "code",
   "execution_count": null,
   "metadata": {},
   "outputs": [],
   "source": []
  },
  {
   "cell_type": "code",
   "execution_count": null,
   "metadata": {},
   "outputs": [],
   "source": []
  },
  {
   "cell_type": "code",
   "execution_count": 19,
   "metadata": {},
   "outputs": [],
   "source": [
    "from keras.utils import to_categorical\n",
    "from keras.models import Sequential\n",
    "from keras.layers import Dense\n",
    "from keras.wrappers.scikit_learn import KerasClassifier\n",
    "target = to_categorical(Y_train)"
   ]
  },
  {
   "cell_type": "code",
   "execution_count": 23,
   "metadata": {},
   "outputs": [],
   "source": [
    "results = []\n",
    "#create model\n",
    "model_2 = Sequential()\n",
    "\n",
    "#get number of columns in training data\n",
    "n_cols_2 = X_train.shape[1]\n",
    "\n",
    "#add layers to model\n",
    "model_2.add(Dense(250, activation='relu', input_shape=(n_cols_2,)))\n",
    "model_2.add(Dense(250, activation='relu'))\n",
    "model_2.add(Dense(250, activation='relu'))\n",
    "model_2.add(Dense(2, activation='softmax'))"
   ]
  },
  {
   "cell_type": "code",
   "execution_count": 24,
   "metadata": {},
   "outputs": [],
   "source": [
    "#compile model using accuracy to measure model performance\n",
    "model_2.compile(optimizer='adam', loss='categorical_crossentropy', metrics=['accuracy'])"
   ]
  },
  {
   "cell_type": "code",
   "execution_count": 25,
   "metadata": {},
   "outputs": [
    {
     "name": "stdout",
     "output_type": "stream",
     "text": [
      "Train on 712 samples, validate on 179 samples\n",
      "Epoch 1/100\n",
      "712/712 [==============================] - 1s 2ms/step - loss: 0.5178 - acc: 0.7500 - val_loss: 0.4125 - val_acc: 0.8156\n",
      "Epoch 2/100\n",
      "712/712 [==============================] - 0s 362us/step - loss: 0.4790 - acc: 0.7781 - val_loss: 0.4022 - val_acc: 0.8380\n",
      "Epoch 3/100\n",
      "712/712 [==============================] - 0s 341us/step - loss: 0.4743 - acc: 0.7823 - val_loss: 0.4265 - val_acc: 0.8268\n",
      "Epoch 4/100\n",
      "712/712 [==============================] - 0s 436us/step - loss: 0.4583 - acc: 0.7907 - val_loss: 0.3875 - val_acc: 0.8268\n",
      "Epoch 5/100\n",
      "712/712 [==============================] - 0s 418us/step - loss: 0.4534 - acc: 0.8034 - val_loss: 0.4318 - val_acc: 0.8268\n",
      "Epoch 6/100\n",
      "712/712 [==============================] - 0s 343us/step - loss: 0.4511 - acc: 0.8076 - val_loss: 0.3703 - val_acc: 0.8492\n",
      "Epoch 7/100\n",
      "712/712 [==============================] - 0s 341us/step - loss: 0.4380 - acc: 0.8034 - val_loss: 0.3679 - val_acc: 0.8436\n",
      "Epoch 8/100\n",
      "712/712 [==============================] - 0s 358us/step - loss: 0.4383 - acc: 0.8090 - val_loss: 0.3826 - val_acc: 0.8324\n",
      "Epoch 9/100\n",
      "712/712 [==============================] - 0s 413us/step - loss: 0.4316 - acc: 0.8104 - val_loss: 0.3934 - val_acc: 0.8492\n",
      "Epoch 10/100\n",
      "712/712 [==============================] - 0s 426us/step - loss: 0.4319 - acc: 0.8104 - val_loss: 0.3590 - val_acc: 0.8492\n",
      "Epoch 11/100\n",
      "712/712 [==============================] - 0s 374us/step - loss: 0.4462 - acc: 0.8146 - val_loss: 0.3964 - val_acc: 0.8492\n",
      "Epoch 12/100\n",
      "712/712 [==============================] - 0s 347us/step - loss: 0.4208 - acc: 0.8062 - val_loss: 0.3977 - val_acc: 0.8436\n",
      "Epoch 13/100\n",
      "712/712 [==============================] - 0s 381us/step - loss: 0.4232 - acc: 0.8188 - val_loss: 0.3641 - val_acc: 0.8715\n",
      "Epoch 14/100\n",
      "712/712 [==============================] - 0s 350us/step - loss: 0.4196 - acc: 0.8034 - val_loss: 0.3757 - val_acc: 0.8547\n",
      "Epoch 15/100\n",
      "712/712 [==============================] - 0s 343us/step - loss: 0.4245 - acc: 0.8188 - val_loss: 0.3957 - val_acc: 0.8492\n",
      "Epoch 16/100\n",
      "712/712 [==============================] - 0s 349us/step - loss: 0.4277 - acc: 0.8118 - val_loss: 0.3718 - val_acc: 0.8659\n",
      "Epoch 17/100\n",
      "712/712 [==============================] - 0s 393us/step - loss: 0.4151 - acc: 0.8160 - val_loss: 0.3885 - val_acc: 0.8492\n",
      "Epoch 18/100\n",
      "712/712 [==============================] - 0s 427us/step - loss: 0.4145 - acc: 0.8132 - val_loss: 0.3936 - val_acc: 0.8492\n",
      "Epoch 19/100\n",
      "712/712 [==============================] - 0s 434us/step - loss: 0.4130 - acc: 0.8174 - val_loss: 0.3820 - val_acc: 0.8715\n",
      "Epoch 20/100\n",
      "712/712 [==============================] - 0s 434us/step - loss: 0.4040 - acc: 0.8202 - val_loss: 0.3656 - val_acc: 0.8380\n",
      "Epoch 21/100\n",
      "712/712 [==============================] - 0s 375us/step - loss: 0.4065 - acc: 0.8174 - val_loss: 0.3463 - val_acc: 0.8380\n",
      "Epoch 22/100\n",
      "712/712 [==============================] - 0s 485us/step - loss: 0.4115 - acc: 0.8258 - val_loss: 0.3588 - val_acc: 0.8436\n",
      "Epoch 23/100\n",
      "712/712 [==============================] - 0s 410us/step - loss: 0.3990 - acc: 0.8230 - val_loss: 0.3591 - val_acc: 0.8715\n",
      "Epoch 24/100\n",
      "712/712 [==============================] - 0s 385us/step - loss: 0.3994 - acc: 0.8329 - val_loss: 0.4056 - val_acc: 0.8380\n",
      "Epoch 25/100\n",
      "712/712 [==============================] - 0s 435us/step - loss: 0.3952 - acc: 0.8301 - val_loss: 0.3885 - val_acc: 0.8715\n",
      "Epoch 26/100\n",
      "712/712 [==============================] - 0s 421us/step - loss: 0.3907 - acc: 0.8315 - val_loss: 0.3728 - val_acc: 0.8603\n",
      "Epoch 27/100\n",
      "712/712 [==============================] - 0s 392us/step - loss: 0.3929 - acc: 0.8427 - val_loss: 0.3995 - val_acc: 0.8659\n",
      "Epoch 28/100\n",
      "712/712 [==============================] - 0s 382us/step - loss: 0.3852 - acc: 0.8357 - val_loss: 0.3958 - val_acc: 0.8659\n",
      "Epoch 29/100\n",
      "712/712 [==============================] - 0s 343us/step - loss: 0.3872 - acc: 0.8301 - val_loss: 0.4042 - val_acc: 0.8603\n",
      "Epoch 30/100\n",
      "712/712 [==============================] - 0s 419us/step - loss: 0.3836 - acc: 0.8469 - val_loss: 0.3912 - val_acc: 0.8492\n",
      "Epoch 31/100\n",
      "712/712 [==============================] - 0s 412us/step - loss: 0.3784 - acc: 0.8413 - val_loss: 0.4283 - val_acc: 0.8603\n",
      "Epoch 32/100\n",
      "712/712 [==============================] - 0s 340us/step - loss: 0.3721 - acc: 0.8385 - val_loss: 0.3681 - val_acc: 0.8268\n",
      "Epoch 33/100\n",
      "712/712 [==============================] - 0s 321us/step - loss: 0.3907 - acc: 0.8343 - val_loss: 0.3944 - val_acc: 0.8603\n",
      "Epoch 34/100\n",
      "712/712 [==============================] - 0s 376us/step - loss: 0.3804 - acc: 0.8413 - val_loss: 0.4094 - val_acc: 0.8603\n",
      "Epoch 35/100\n",
      "712/712 [==============================] - 0s 450us/step - loss: 0.3722 - acc: 0.8483 - val_loss: 0.4096 - val_acc: 0.8492\n",
      "Epoch 36/100\n",
      "712/712 [==============================] - 0s 434us/step - loss: 0.3684 - acc: 0.8525 - val_loss: 0.3739 - val_acc: 0.8547\n",
      "Epoch 37/100\n",
      "712/712 [==============================] - 0s 441us/step - loss: 0.3782 - acc: 0.8427 - val_loss: 0.3855 - val_acc: 0.8547\n",
      "Epoch 38/100\n",
      "712/712 [==============================] - 0s 446us/step - loss: 0.3729 - acc: 0.8371 - val_loss: 0.3880 - val_acc: 0.8547\n",
      "Epoch 39/100\n",
      "712/712 [==============================] - 0s 361us/step - loss: 0.3607 - acc: 0.8469 - val_loss: 0.3963 - val_acc: 0.8547\n",
      "Epoch 40/100\n",
      "712/712 [==============================] - 0s 412us/step - loss: 0.3602 - acc: 0.8399 - val_loss: 0.4330 - val_acc: 0.8715\n",
      "Epoch 41/100\n",
      "712/712 [==============================] - 0s 403us/step - loss: 0.3586 - acc: 0.8455 - val_loss: 0.4264 - val_acc: 0.8380\n",
      "Epoch 42/100\n",
      "712/712 [==============================] - 0s 367us/step - loss: 0.3631 - acc: 0.8483 - val_loss: 0.4125 - val_acc: 0.8659\n",
      "Epoch 43/100\n",
      "712/712 [==============================] - 0s 414us/step - loss: 0.3575 - acc: 0.8511 - val_loss: 0.4168 - val_acc: 0.8715\n",
      "Epoch 44/100\n",
      "712/712 [==============================] - 0s 384us/step - loss: 0.3486 - acc: 0.8483 - val_loss: 0.4221 - val_acc: 0.8603\n",
      "Epoch 45/100\n",
      "712/712 [==============================] - 0s 419us/step - loss: 0.3508 - acc: 0.8427 - val_loss: 0.4660 - val_acc: 0.8380\n",
      "Epoch 46/100\n",
      "712/712 [==============================] - 0s 428us/step - loss: 0.3676 - acc: 0.8343 - val_loss: 0.3957 - val_acc: 0.8659\n",
      "Epoch 47/100\n",
      "712/712 [==============================] - 0s 404us/step - loss: 0.3645 - acc: 0.8455 - val_loss: 0.4524 - val_acc: 0.8324\n",
      "Epoch 48/100\n",
      "712/712 [==============================] - 0s 370us/step - loss: 0.3495 - acc: 0.8652 - val_loss: 0.4197 - val_acc: 0.8715\n",
      "Epoch 49/100\n",
      "712/712 [==============================] - 0s 342us/step - loss: 0.3460 - acc: 0.8596 - val_loss: 0.4249 - val_acc: 0.8492\n",
      "Epoch 50/100\n",
      "712/712 [==============================] - 0s 339us/step - loss: 0.3557 - acc: 0.8385 - val_loss: 0.4398 - val_acc: 0.8436\n",
      "Epoch 51/100\n",
      "712/712 [==============================] - 0s 357us/step - loss: 0.3479 - acc: 0.8511 - val_loss: 0.4227 - val_acc: 0.8659\n",
      "Epoch 52/100\n",
      "712/712 [==============================] - 0s 359us/step - loss: 0.3331 - acc: 0.8511 - val_loss: 0.4577 - val_acc: 0.8603\n",
      "Epoch 53/100\n",
      "712/712 [==============================] - 0s 388us/step - loss: 0.3375 - acc: 0.8596 - val_loss: 0.5866 - val_acc: 0.8436\n",
      "Epoch 54/100\n",
      "712/712 [==============================] - 0s 400us/step - loss: 0.3536 - acc: 0.8539 - val_loss: 0.4348 - val_acc: 0.8603\n",
      "Epoch 55/100\n",
      "712/712 [==============================] - 0s 401us/step - loss: 0.3405 - acc: 0.8525 - val_loss: 0.4337 - val_acc: 0.8547\n",
      "Epoch 56/100\n",
      "712/712 [==============================] - 0s 370us/step - loss: 0.3456 - acc: 0.8581 - val_loss: 0.4139 - val_acc: 0.8436\n",
      "Epoch 57/100\n",
      "712/712 [==============================] - 0s 412us/step - loss: 0.3403 - acc: 0.8497 - val_loss: 0.4579 - val_acc: 0.8492\n",
      "Epoch 58/100\n",
      "712/712 [==============================] - 0s 391us/step - loss: 0.3280 - acc: 0.8596 - val_loss: 0.4710 - val_acc: 0.8436\n",
      "Epoch 59/100\n",
      "712/712 [==============================] - 0s 383us/step - loss: 0.3284 - acc: 0.8511 - val_loss: 0.4425 - val_acc: 0.8492\n",
      "Epoch 60/100\n",
      "712/712 [==============================] - 0s 426us/step - loss: 0.3275 - acc: 0.8511 - val_loss: 0.4883 - val_acc: 0.8492\n"
     ]
    },
    {
     "name": "stdout",
     "output_type": "stream",
     "text": [
      "Epoch 61/100\n",
      "712/712 [==============================] - 0s 373us/step - loss: 0.3269 - acc: 0.8581 - val_loss: 0.4171 - val_acc: 0.8492\n",
      "Epoch 62/100\n",
      "712/712 [==============================] - 0s 402us/step - loss: 0.3325 - acc: 0.8596 - val_loss: 0.5149 - val_acc: 0.8436\n",
      "Epoch 63/100\n",
      "712/712 [==============================] - 0s 331us/step - loss: 0.3259 - acc: 0.8553 - val_loss: 0.5296 - val_acc: 0.8492\n",
      "Epoch 64/100\n",
      "712/712 [==============================] - 0s 376us/step - loss: 0.3245 - acc: 0.8610 - val_loss: 0.5080 - val_acc: 0.8547\n",
      "Epoch 65/100\n",
      "712/712 [==============================] - 0s 356us/step - loss: 0.3258 - acc: 0.8596 - val_loss: 0.4750 - val_acc: 0.8380\n",
      "Epoch 66/100\n",
      "712/712 [==============================] - 0s 384us/step - loss: 0.3250 - acc: 0.8483 - val_loss: 0.4958 - val_acc: 0.8492\n",
      "Epoch 67/100\n",
      "712/712 [==============================] - 0s 485us/step - loss: 0.3293 - acc: 0.8581 - val_loss: 0.5059 - val_acc: 0.8436\n",
      "Epoch 68/100\n",
      "712/712 [==============================] - 0s 466us/step - loss: 0.3235 - acc: 0.8553 - val_loss: 0.4578 - val_acc: 0.8547\n",
      "Epoch 69/100\n",
      "712/712 [==============================] - 0s 358us/step - loss: 0.3211 - acc: 0.8553 - val_loss: 0.4893 - val_acc: 0.8436\n",
      "Epoch 70/100\n",
      "712/712 [==============================] - 0s 386us/step - loss: 0.3259 - acc: 0.8553 - val_loss: 0.5365 - val_acc: 0.8380\n",
      "Epoch 71/100\n",
      "712/712 [==============================] - 0s 403us/step - loss: 0.3239 - acc: 0.8497 - val_loss: 0.5883 - val_acc: 0.8436\n",
      "Epoch 72/100\n",
      "712/712 [==============================] - 0s 374us/step - loss: 0.3256 - acc: 0.8596 - val_loss: 0.5238 - val_acc: 0.8268\n",
      "Epoch 73/100\n",
      "712/712 [==============================] - 0s 398us/step - loss: 0.3152 - acc: 0.8567 - val_loss: 0.5386 - val_acc: 0.8268\n",
      "Epoch 74/100\n",
      "712/712 [==============================] - 0s 408us/step - loss: 0.3167 - acc: 0.8652 - val_loss: 0.5173 - val_acc: 0.8324\n",
      "Epoch 75/100\n",
      "712/712 [==============================] - 0s 376us/step - loss: 0.3196 - acc: 0.8539 - val_loss: 0.5327 - val_acc: 0.8324\n",
      "Epoch 76/100\n",
      "712/712 [==============================] - 0s 431us/step - loss: 0.3092 - acc: 0.8638 - val_loss: 0.5269 - val_acc: 0.8268\n",
      "Epoch 77/100\n",
      "712/712 [==============================] - 0s 388us/step - loss: 0.3140 - acc: 0.8652 - val_loss: 0.5793 - val_acc: 0.8436\n",
      "Epoch 78/100\n",
      "712/712 [==============================] - 0s 347us/step - loss: 0.3257 - acc: 0.8567 - val_loss: 0.5293 - val_acc: 0.8324\n",
      "Epoch 79/100\n",
      "712/712 [==============================] - 0s 416us/step - loss: 0.3879 - acc: 0.8343 - val_loss: 0.4397 - val_acc: 0.8436\n",
      "Epoch 80/100\n",
      "712/712 [==============================] - 0s 379us/step - loss: 0.3564 - acc: 0.8343 - val_loss: 0.4785 - val_acc: 0.8380\n",
      "Epoch 81/100\n",
      "712/712 [==============================] - 0s 379us/step - loss: 0.3271 - acc: 0.8567 - val_loss: 0.5073 - val_acc: 0.8492\n",
      "Epoch 82/100\n",
      "712/712 [==============================] - 0s 429us/step - loss: 0.3230 - acc: 0.8596 - val_loss: 0.5109 - val_acc: 0.8324\n",
      "Epoch 83/100\n",
      "712/712 [==============================] - 0s 384us/step - loss: 0.3256 - acc: 0.8652 - val_loss: 0.5591 - val_acc: 0.8324\n",
      "Epoch 84/100\n",
      "712/712 [==============================] - 0s 399us/step - loss: 0.3157 - acc: 0.8652 - val_loss: 0.5560 - val_acc: 0.8324\n",
      "Epoch 85/100\n",
      "712/712 [==============================] - 0s 380us/step - loss: 0.3235 - acc: 0.8581 - val_loss: 0.5283 - val_acc: 0.8268\n",
      "Epoch 86/100\n",
      "712/712 [==============================] - 0s 360us/step - loss: 0.3194 - acc: 0.8525 - val_loss: 0.5352 - val_acc: 0.8324\n",
      "Epoch 87/100\n",
      "712/712 [==============================] - 0s 345us/step - loss: 0.3067 - acc: 0.8708 - val_loss: 0.5692 - val_acc: 0.8324\n",
      "Epoch 88/100\n",
      "712/712 [==============================] - 0s 346us/step - loss: 0.3137 - acc: 0.8596 - val_loss: 0.5959 - val_acc: 0.8324\n",
      "Epoch 89/100\n",
      "712/712 [==============================] - 0s 361us/step - loss: 0.3124 - acc: 0.8624 - val_loss: 0.5788 - val_acc: 0.8547\n",
      "Epoch 90/100\n",
      "712/712 [==============================] - 0s 338us/step - loss: 0.3055 - acc: 0.8666 - val_loss: 0.6141 - val_acc: 0.8324\n",
      "Epoch 91/100\n",
      "712/712 [==============================] - 0s 342us/step - loss: 0.3039 - acc: 0.8581 - val_loss: 0.6355 - val_acc: 0.8324\n",
      "Epoch 92/100\n",
      "712/712 [==============================] - 0s 343us/step - loss: 0.3093 - acc: 0.8638 - val_loss: 0.6462 - val_acc: 0.8324\n",
      "Epoch 93/100\n",
      "712/712 [==============================] - 0s 336us/step - loss: 0.3052 - acc: 0.8624 - val_loss: 0.5927 - val_acc: 0.8324\n",
      "Epoch 94/100\n",
      "712/712 [==============================] - 0s 338us/step - loss: 0.3004 - acc: 0.8610 - val_loss: 0.6496 - val_acc: 0.8324\n",
      "Epoch 95/100\n",
      "712/712 [==============================] - 0s 343us/step - loss: 0.3013 - acc: 0.8638 - val_loss: 0.6629 - val_acc: 0.8324\n",
      "Epoch 96/100\n",
      "712/712 [==============================] - 0s 332us/step - loss: 0.3043 - acc: 0.8624 - val_loss: 0.6711 - val_acc: 0.8436\n",
      "Epoch 97/100\n",
      "712/712 [==============================] - 0s 336us/step - loss: 0.3079 - acc: 0.8596 - val_loss: 0.5945 - val_acc: 0.8156\n",
      "Epoch 98/100\n",
      "712/712 [==============================] - 0s 336us/step - loss: 0.3034 - acc: 0.8596 - val_loss: 0.6612 - val_acc: 0.8324\n",
      "Epoch 99/100\n",
      "712/712 [==============================] - 0s 332us/step - loss: 0.3031 - acc: 0.8638 - val_loss: 0.6315 - val_acc: 0.8324\n",
      "Epoch 100/100\n",
      "712/712 [==============================] - 0s 351us/step - loss: 0.3121 - acc: 0.8596 - val_loss: 0.5463 - val_acc: 0.8324\n"
     ]
    },
    {
     "data": {
      "text/plain": [
       "0.8417696579729907"
      ]
     },
     "execution_count": 25,
     "metadata": {},
     "output_type": "execute_result"
    }
   ],
   "source": [
    "results = model_2.fit(X_train, target, epochs=100, batch_size=10, validation_split=0.2)\n",
    "np.array(results.history['acc']).mean()"
   ]
  },
  {
   "cell_type": "code",
   "execution_count": null,
   "metadata": {},
   "outputs": [],
   "source": []
  }
 ],
 "metadata": {
  "kernelspec": {
   "display_name": "Python 3",
   "language": "python",
   "name": "python3"
  },
  "language_info": {
   "codemirror_mode": {
    "name": "ipython",
    "version": 3
   },
   "file_extension": ".py",
   "mimetype": "text/x-python",
   "name": "python",
   "nbconvert_exporter": "python",
   "pygments_lexer": "ipython3",
   "version": "3.6.7"
  }
 },
 "nbformat": 4,
 "nbformat_minor": 2
}
